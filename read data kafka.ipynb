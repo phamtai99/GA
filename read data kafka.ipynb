{
 "cells": [
  {
   "cell_type": "code",
   "execution_count": 1,
   "metadata": {},
   "outputs": [],
   "source": [
    "import os \n",
    "packages = \"org.apache.spark:spark-sql-kafka-0-10_2.12:3.0.1\"\n",
    "\n",
    "os.environ[\"PYSPARK_SUBMIT_ARGS\"] = (\n",
    "    \"--packages {0} pyspark-shell\".format(packages)\n",
    ")\n",
    "\n",
    "from pyspark.context import SparkContext\n",
    "from pyspark.sql.session import SparkSession\n",
    "from pyspark.sql.functions import to_json, struct, lit\n",
    "sc = SparkContext('local')\n",
    "spark = SparkSession(sc)"
   ]
  },
  {
   "cell_type": "code",
   "execution_count": 2,
   "metadata": {},
   "outputs": [
    {
     "name": "stdout",
     "output_type": "stream",
     "text": [
      "Requirement already satisfied: kafka-python in /opt/conda/lib/python3.8/site-packages (2.0.2)\r\n"
     ]
    }
   ],
   "source": [
    "!pip install kafka-python"
   ]
  },
  {
   "cell_type": "markdown",
   "metadata": {},
   "source": [
    "# Đọc dữ liệu từ Kafka"
   ]
  },
  {
   "cell_type": "markdown",
   "metadata": {},
   "source": [
    "## 1. Tạo Kafka Source bằng truy vấn tập hợp (Batch queries)"
   ]
  },
  {
   "cell_type": "markdown",
   "metadata": {},
   "source": [
    "Cụ thể, trong các trường hợp cần truy vấn tập hợp, bạn có thể tạo một Dataset/DataFrame để xác định khoảng offset phù hợp."
   ]
  },
  {
   "cell_type": "markdown",
   "metadata": {},
   "source": [
    "### Subcribe mặc định một topic  tại offset bắt đầu và offset kết thúc:\n",
    "Khi không chỉ định offset cụ thể, sẽ mặc định subcribe topic tại offset bắt đầu và offset kết thúc.\n",
    "\n",
    "df = spark \\\n",
    "  .read \\\n",
    "  .format(\"kafka\") \\\n",
    "  .option(\"kafka.bootstrap.servers\", \"host1:port1,host2:port2\") \\\n",
    "  .option(\"subscribe\", \"topic1\") \\\n",
    "  .load()\\\n",
    "df.selectExpr(\"CAST(key AS STRING)\", \"CAST(value AS STRING)\")"
   ]
  },
  {
   "cell_type": "code",
   "execution_count": 3,
   "metadata": {},
   "outputs": [
    {
     "name": "stdout",
     "output_type": "stream",
     "text": [
      "+---+--------------------------------------------------------------------------------------------------------------------------------------------------------------------------------------------------------------------------------------------------------------------------------------------------------------------------------------+\n",
      "|key|value                                                                                                                                                                                                                                                                                                                                 |\n",
      "+---+--------------------------------------------------------------------------------------------------------------------------------------------------------------------------------------------------------------------------------------------------------------------------------------------------------------------------------------+\n",
      "|0  |{\"_c0\": 0, \"age\": 39, \"workclass\": \" State-gov\", \"education\": \" Bachelors\", \"education-num\": 13, \"marital-status\": \" Never-married\", \"occupation\": \" Adm-clerical\", \"relationship\": \" Not-in-family\", \"ethnicity\": \" White\", \"gender\": \" Male\", \"capital-gain\": 2174, \"capital-loss\": 0, \"hours-per-week\": 40, \"loan\": \" <=50K\"}      |\n",
      "|1  |{\"_c0\": 1, \"age\": 50, \"workclass\": \" Self-emp-not-inc\", \"education\": \" Bachelors\", \"education-num\": 13, \"marital-status\": \" Married-civ-spouse\", \"occupation\": \" Exec-managerial\", \"relationship\": \" Husband\", \"ethnicity\": \" White\", \"gender\": \" Male\", \"capital-gain\": 0, \"capital-loss\": 0, \"hours-per-week\": 13, \"loan\": \" <=50K\"}|\n",
      "+---+--------------------------------------------------------------------------------------------------------------------------------------------------------------------------------------------------------------------------------------------------------------------------------------------------------------------------------------+\n",
      "only showing top 2 rows\n",
      "\n"
     ]
    }
   ],
   "source": [
    "df = spark\\\n",
    ".read\\\n",
    ".format(\"kafka\")\\\n",
    ".option(\"kafka.bootstrap.servers\", \"kafka:9092\")\\\n",
    ".option(\"subscribe\", \"default_topic\")\\\n",
    ".load()\n",
    "\n",
    "df.selectExpr(\"CAST(key AS STRING)\", \"CAST(value AS STRING)\").show(2, False)"
   ]
  },
  {
   "cell_type": "markdown",
   "metadata": {},
   "source": [
    "Định dạng dữ liệu trong schema:\n",
    "\n",
    "| Cột | Kiểu dữ liệu |\n",
    "| :--- | :--- |\n",
    "| key | binary |\n",
    "| value | binary |\n",
    "| topic | string |\n",
    "| partition | int |\n",
    "| offset | long |\n",
    "| timestamp | timestamp |\n",
    "| timestampType | int |\n",
    "| headers (optional) | array |\n"
   ]
  },
  {
   "cell_type": "code",
   "execution_count": 4,
   "metadata": {},
   "outputs": [
    {
     "name": "stdout",
     "output_type": "stream",
     "text": [
      "root\n",
      " |-- key: binary (nullable = true)\n",
      " |-- value: binary (nullable = true)\n",
      " |-- topic: string (nullable = true)\n",
      " |-- partition: integer (nullable = true)\n",
      " |-- offset: long (nullable = true)\n",
      " |-- timestamp: timestamp (nullable = true)\n",
      " |-- timestampType: integer (nullable = true)\n",
      "\n"
     ]
    }
   ],
   "source": [
    "df.printSchema()"
   ]
  },
  {
   "cell_type": "markdown",
   "metadata": {},
   "source": [
    "### Subcribe tới nhiều topic với offset được chỉ định cụ thể:\n",
    "\n",
    "df = spark \\\n",
    "  .read \\\n",
    "  .format(\"kafka\") \\\n",
    "  .option(\"kafka.bootstrap.servers\", \"host1:port1,host2:port2\") \\\n",
    "  .option(\"subscribe\", \"topic1,topic2\") \\\n",
    "  .option(\"startingOffsets\", \"\"\"{\"topic1\":{\"0\":23,\"1\":-2},\"topic2\":{\"0\":-2}}\"\"\") \\\n",
    "  .option(\"endingOffsets\", \"\"\"{\"topic1\":{\"0\":50,\"1\":-1},\"topic2\":{\"0\":-1}}\"\"\") \\\n",
    "  .load()\\\n",
    "df.selectExpr(\"CAST(key AS STRING)\", \"CAST(value AS STRING)\")"
   ]
  },
  {
   "cell_type": "code",
   "execution_count": 5,
   "metadata": {},
   "outputs": [
    {
     "name": "stdout",
     "output_type": "stream",
     "text": [
      "+---+----------------------------------------------------------------------------------------------------------------------------------------------------------------------------------------------------------------------------------------------------------------------------------------------------------------------------+\n",
      "|key|value                                                                                                                                                                                                                                                                                                                       |\n",
      "+---+----------------------------------------------------------------------------------------------------------------------------------------------------------------------------------------------------------------------------------------------------------------------------------------------------------------------------+\n",
      "|23 |{\"_c0\": 23, \"age\": 43, \"workclass\": \" Private\", \"education\": \" 11th\", \"education-num\": 7, \"marital-status\": \" Married-civ-spouse\", \"occupation\": \" Transport-moving\", \"relationship\": \" Husband\", \"ethnicity\": \" White\", \"gender\": \" Male\", \"capital-gain\": 0, \"capital-loss\": 2042, \"hours-per-week\": 40, \"loan\": \" <=50K\"}|\n",
      "|24 |{\"_c0\": 24, \"age\": 59, \"workclass\": \" Private\", \"education\": \" HS-grad\", \"education-num\": 9, \"marital-status\": \" Divorced\", \"occupation\": \" Tech-support\", \"relationship\": \" Unmarried\", \"ethnicity\": \" White\", \"gender\": \" Female\", \"capital-gain\": 0, \"capital-loss\": 0, \"hours-per-week\": 40, \"loan\": \" <=50K\"}          |\n",
      "+---+----------------------------------------------------------------------------------------------------------------------------------------------------------------------------------------------------------------------------------------------------------------------------------------------------------------------------+\n",
      "only showing top 2 rows\n",
      "\n"
     ]
    }
   ],
   "source": [
    "df = spark\\\n",
    ".read\\\n",
    ".format(\"kafka\")\\\n",
    ".option(\"kafka.bootstrap.servers\", \"kafka:9092\")\\\n",
    ".option(\"subscribe\", \"default_topic,default_topic\")\\\n",
    ".option(\"startingOffsets\", \"\"\"{\"default_topic\":{\"0\":23,\"1\":-2},\"default_topic\":{\"0\":23}}\"\"\")\\\n",
    ".option(\"endingOffsets\", \"\"\"{\"default_topic\":{\"0\":50,\"1\":-1},\"default_topic\":{\"0\":50}}\"\"\")\\\n",
    ".load()\n",
    "df.selectExpr(\"CAST(key AS STRING)\", \"CAST(value AS STRING)\").show(2, False)"
   ]
  },
  {
   "cell_type": "code",
   "execution_count": 6,
   "metadata": {},
   "outputs": [
    {
     "name": "stdout",
     "output_type": "stream",
     "text": [
      "+------+\n",
      "|offset|\n",
      "+------+\n",
      "|23    |\n",
      "|24    |\n",
      "|25    |\n",
      "|26    |\n",
      "|27    |\n",
      "|28    |\n",
      "|29    |\n",
      "|30    |\n",
      "|31    |\n",
      "|32    |\n",
      "|33    |\n",
      "|34    |\n",
      "|35    |\n",
      "|36    |\n",
      "|37    |\n",
      "|38    |\n",
      "|39    |\n",
      "|40    |\n",
      "|41    |\n",
      "|42    |\n",
      "|43    |\n",
      "|44    |\n",
      "|45    |\n",
      "|46    |\n",
      "|47    |\n",
      "|48    |\n",
      "|49    |\n",
      "+------+\n",
      "\n"
     ]
    }
   ],
   "source": [
    "df.selectExpr(\"offset\").show(40, False)"
   ]
  },
  {
   "cell_type": "markdown",
   "metadata": {},
   "source": [
    "### Subscribe một pattern tại offset bắt đầu và offset kết thúc:\n",
    "\n",
    "df = spark \\\n",
    "  .read \\\n",
    "  .format(\"kafka\") \\\n",
    "  .option(\"kafka.bootstrap.servers\", \"host1:port1,host2:port2\") \\\n",
    "  .option(\"subscribePattern\", \"topic.*\") \\\n",
    "  .option(\"startingOffsets\", \"earliest\") \\\n",
    "  .option(\"endingOffsets\", \"latest\") \\\n",
    "  .load() \\\n",
    "df.selectExpr(\"CAST(key AS STRING)\", \"CAST(value AS STRING)\")"
   ]
  },
  {
   "cell_type": "code",
   "execution_count": 6,
   "metadata": {},
   "outputs": [
    {
     "name": "stdout",
     "output_type": "stream",
     "text": [
      "+---+-----+\n",
      "|key|value|\n",
      "+---+-----+\n",
      "+---+-----+\n",
      "\n"
     ]
    }
   ],
   "source": [
    "df = spark\\\n",
    ".read\\\n",
    ".format(\"kafka\")\\\n",
    ".option(\"kafka.bootstrap.servers\", \"kafka:9092\")\\\n",
    ".option(\"subscribePattern\", \"topic.*\")\\\n",
    ".option(\"startingOffsets\", \"earliest\")\\\n",
    ".option(\"endingOffsets\", \"latest\")\\\n",
    ".load()\n",
    "df.selectExpr(\"CAST(key AS STRING)\", \"CAST(value AS STRING)\").show(2, False)"
   ]
  },
  {
   "cell_type": "markdown",
   "metadata": {},
   "source": [
    "## 2. Tạo Kafka Source bằng truy vấn luồng (Streaming queries)"
   ]
  },
  {
   "cell_type": "markdown",
   "metadata": {},
   "source": [
    "### Subcribe một topic:\n",
    "\n",
    "df = spark \\\n",
    "  .readStream \\\n",
    "  .format(\"kafka\") \\\n",
    "  .option(\"kafka.bootstrap.servers\", \"host1:port1,host2:port2\") \\\n",
    "  .option(\"subscribe\", \"topic1\") \\\n",
    "  .load()\\\n",
    "df.selectExpr(\"CAST(key AS STRING)\", \"CAST(value AS STRING)\")"
   ]
  },
  {
   "cell_type": "code",
   "execution_count": 2,
   "metadata": {},
   "outputs": [
    {
     "data": {
      "text/plain": [
       "DataFrame[key: string, value: string]"
      ]
     },
     "execution_count": 2,
     "metadata": {},
     "output_type": "execute_result"
    }
   ],
   "source": [
    "df = spark\\\n",
    ".readStream\\\n",
    ".format(\"kafka\")\\\n",
    ".option(\"kafka.bootstrap.servers\", \"kafka:9092\")\\\n",
    ".option(\"subscribe\", \"default_topic\")\\\n",
    ".load()\n",
    "\n",
    "df.selectExpr(\"CAST(key AS STRING)\", \"CAST(value AS STRING)\")"
   ]
  },
  {
   "cell_type": "code",
   "execution_count": 3,
   "metadata": {},
   "outputs": [
    {
     "data": {
      "text/plain": [
       "<pyspark.sql.streaming.StreamingQuery at 0x7fdee60074c0>"
      ]
     },
     "execution_count": 3,
     "metadata": {},
     "output_type": "execute_result"
    }
   ],
   "source": [
    "df.writeStream\\\n",
    "    .queryName(\"activity\").format(\"memory\")\\\n",
    "    .start()"
   ]
  },
  {
   "cell_type": "code",
   "execution_count": 4,
   "metadata": {},
   "outputs": [
    {
     "name": "stdout",
     "output_type": "stream",
     "text": [
      "+--------+\n",
      "|count(1)|\n",
      "+--------+\n",
      "|       0|\n",
      "+--------+\n",
      "\n",
      "+--------+\n",
      "|count(1)|\n",
      "+--------+\n",
      "|    4751|\n",
      "+--------+\n",
      "\n",
      "+--------+\n",
      "|count(1)|\n",
      "+--------+\n",
      "|    4751|\n",
      "+--------+\n",
      "\n",
      "+--------+\n",
      "|count(1)|\n",
      "+--------+\n",
      "|    4751|\n",
      "+--------+\n",
      "\n",
      "+--------+\n",
      "|count(1)|\n",
      "+--------+\n",
      "|  179916|\n",
      "+--------+\n",
      "\n"
     ]
    }
   ],
   "source": [
    "from time import sleep\n",
    "for x in range(5):\n",
    "    spark.sql(\"SELECT count(*) FROM activity\").show()\n",
    "    sleep(1)"
   ]
  },
  {
   "cell_type": "markdown",
   "metadata": {},
   "source": [
    "### Subcribe một topic có header:\n",
    "\n",
    "val df = spark \\\n",
    "  .readStream \\\n",
    "  .format(\"kafka\") \\\n",
    "  .option(\"kafka.bootstrap.servers\", \"host1:port1,host2:port2\") \\\n",
    "  .option(\"subscribe\", \"topic1\") \\\n",
    "  .option(\"includeHeaders\", \"true\") \\\n",
    "  .load()\\\n",
    "df.selectExpr(\"CAST(key AS STRING)\", \"CAST(value AS STRING)\", \"headers\")"
   ]
  },
  {
   "cell_type": "code",
   "execution_count": null,
   "metadata": {},
   "outputs": [],
   "source": [
    "df = spark\\\n",
    ".readStream\\\n",
    ".format(\"kafka\")\\\n",
    ".option(\"kafka.bootstrap.servers\", \"kafka:9092\")\\\n",
    ".option(\"subscribe\", \"default_topic\")\\\n",
    ".option(\"includeHeaders\", \"true\") \\\n",
    ".load()\n",
    "\n",
    "df.selectExpr(\"CAST(key AS STRING)\", \"CAST(value AS STRING)\", \"headers\")"
   ]
  },
  {
   "cell_type": "markdown",
   "metadata": {},
   "source": [
    "### Subcribe nhiều topic:\n",
    "\n",
    "df = spark \\\n",
    "  .readStream \\\n",
    "  .format(\"kafka\") \\\n",
    "  .option(\"kafka.bootstrap.servers\", \"host1:port1,host2:port2\") \\\n",
    "  .option(\"subscribe\", \"topic1,topic2\") \\\n",
    "  .load()\\\n",
    "df.selectExpr(\"CAST(key AS STRING)\", \"CAST(value AS STRING)\")"
   ]
  },
  {
   "cell_type": "code",
   "execution_count": 5,
   "metadata": {},
   "outputs": [
    {
     "data": {
      "text/plain": [
       "DataFrame[key: string, value: string]"
      ]
     },
     "execution_count": 5,
     "metadata": {},
     "output_type": "execute_result"
    }
   ],
   "source": [
    "df = spark\\\n",
    ".readStream\\\n",
    ".format(\"kafka\")\\\n",
    ".option(\"kafka.bootstrap.servers\", \"kafka:9092\")\\\n",
    ".option(\"subscribe\", \"default_topic, default_topic\")\\\n",
    ".load()\n",
    "\n",
    "df.selectExpr(\"CAST(key AS STRING)\", \"CAST(value AS STRING)\")"
   ]
  },
  {
   "cell_type": "markdown",
   "metadata": {},
   "source": [
    "### Subscribe một pattern:\n",
    "\n",
    "df = spark \\\n",
    "  .readStream \\\n",
    "  .format(\"kafka\") \\\n",
    "  .option(\"kafka.bootstrap.servers\", \"host1:port1,host2:port2\") \\\n",
    "  .option(\"subscribePattern\", \"topic.*\") \\\n",
    "  .load()\\\n",
    "df.selectExpr(\"CAST(key AS STRING)\", \"CAST(value AS STRING)\")"
   ]
  },
  {
   "cell_type": "code",
   "execution_count": 6,
   "metadata": {},
   "outputs": [
    {
     "data": {
      "text/plain": [
       "DataFrame[key: string, value: string]"
      ]
     },
     "execution_count": 6,
     "metadata": {},
     "output_type": "execute_result"
    }
   ],
   "source": [
    "df = spark\\\n",
    ".readStream\\\n",
    ".format(\"kafka\")\\\n",
    ".option(\"kafka.bootstrap.servers\", \"kafka:9092\")\\\n",
    ".option(\"subscribePattern\", \"topic.*\")\\\n",
    ".load()\n",
    "\n",
    "df.selectExpr(\"CAST(key AS STRING)\", \"CAST(value AS STRING)\")"
   ]
  },
  {
   "cell_type": "markdown",
   "metadata": {},
   "source": [
    "Các option cần thiết lập cho Kafka Source trong cả streaming queries và batch queries:\n",
    "\n",
    "| Option | Giá trị | Ý nghĩa |\n",
    "| :--- | :--- | :--- |\n",
    "| assign | json string {\"topicA\":[0,1],\"topicB\":[2,4]} | Chỉ định TopicPartition dùng để subcribe một topic (Do topic có thể có nhiều partition). Các pattern được sử dụng để subcribe một hoặc nhiều topic. Chỉ một trong số các option \"asign\", \"subcribe\" hoặc \"subcribePattern\" được chỉ định khi subcribe một topic trong Kafka source. |\n",
    "| subscribe | Các topic được ngăn cách bởi các dấu phẩy | Các pattern được sử dụng để subcribe một hoặc nhiều topic. Chỉ một trong số các option \"asign\", \"subcribe\" hoặc \"subcribePattern\" được chỉ định khi subcribe một topic trong Kafka source. |\n",
    "| subscribePattern | Chuỗi biểu thức chính quy Java | Các pattern được sử dụng để subcribe một hoặc nhiều topic. Chỉ một trong số các option \"asign\", \"subcribe\" hoặc \"subcribePattern\" được chỉ định khi subcribe một topic trong Kafka source. |\n",
    "| kafka.bootstrap.servers | Các host:port được ngăn cách bởi các dấu phẩy | Cấu hình Kafka server |"
   ]
  },
  {
   "cell_type": "markdown",
   "metadata": {},
   "source": [
    "Những thông số cấu hình sau là không bắt buộc:\n",
    "\n",
    "| Option | Giá trị | Mặc định | Kiểu query | Ý nghĩa |\n",
    "| :--- | :--- | :--- | :--- | :--- |\n",
    "| startingOffsetsByTimestamp | json string \"\"\" {\"topicA\":{\"0\": 1000, \"1\": 1000}, \"topicB\": {\"0\": 2000, \"1\": 2000}} \"\"\" | none (mặc định giá trị của startingOffsets được sử dụng) | streaming query, batch query | Timestamp ghi nhận mốc bắt đầu khi câu truy vấn được thực hiện, mỗi TopicPartition được gán một chuỗi json biểu diễn timestamp bắt đầu. Giá trị offset trả về của mỗi partition là giá trị offset đầu tiên có timestamp lớn hơn hoặc bằng timestamp của partition tương ứng. Nếu không tồn tại offset nào phù hợp, câu truy vấn sẽ dừng ngay lập tức để ngăn chặn việc đọc dữ liệu không chủ đích từ những partition không có offset thỏa mãn. (Hiện tại thì option này còn tồn tại nhiều hạn chế, tuy nhiên sẽ được giải quyết trong tương lai gần). <br>Sau đó, Spark chỉ đơn giản truyền thông tin về timestamp tới KafkaConsumer.offsetsForTimes, không chú thích gì thêm về giá trị gửi đi. <br>Nếu cần thêm thông tin chi tiết về KafkaConsumer.offsetsForTimes, tham khảo thêm [javadoc](https://kafka.apache.org/21/javadoc/org/apache/kafka/clients/consumer/KafkaConsumer.html#offsetsForTimes-java.util.Map-). <br>Ý nghĩa của timestamp cũng tùy thuộc vào cấu hình của Kafka (log.message.timestamp.type): tham khảo thêm [Kafka documentation](https://kafka.apache.org/documentation/) để biết thêm chi tiết. <br>Lưu ý: Option này yêu cầu Kafka 0.10.1.0 hoặc cao hơn. <br>Lưu ý 2: startingOffsetsByTimestamp có mức ưu tiên cao hơn startingOffsets.<br>Lưu ý 3: Đối với truy vấn luồng, option này chỉ áp dụng khi câu lệnh truy vấn hoạt động, hoặc bắt đầu lại từ chỗ truy vấn dừng. Một partition mới thêm vào lúc truy vấn sẽ bắt đầu với offset đầu tiên. |\n",
    "| startingOffsets | \"earliest\", \"latest\" (streaming only), or json string \"\"\" {\"topicA\":{\"0\":23,\"1\":-1},\"topicB\":{\"0\":-2}} \"\"\" | \"latest\" với truy vấn luồng, \"earliest\" cho truy vấn tập hợp | streaming query, batch query | Bắt đầu khi câu truy vấn bắt đầu, hoặc dùng \"earliest\" của offset bắt đầu, hoặc \"lastest\" của offset kết thúc, hoặc dùng json chỉ định offset bắt đầu của từng TopicPartition. Trong json, -2 chỉ earliest, -1 chỉ lastest. Lưu ý: Truy vấn tập hợp không cho phép dùng lastest ( tương ứng -1 trong json). Đối với truy vấn luồng, chỉ áp dụng khi truy vấn bắt đầu, và bắt đầu lại từ chỗ truy vấn dừng. Một partition mới thêm vào lúc truy vấn sẽ bắt đầu với offset đầu tiên. |\n",
    "| endingOffsetsByTimestamp | json string \"\"\" {\"topicA\":{\"0\": 1000, \"1\": 1000}, \"topicB\": {\"0\": 2000, \"1\": 2000}} \"\"\" | latest | batch query | Timestamp ghi nhận mốc bắt đầu khi câu truy vấn tập hợp được thực hiện, mỗi TopicPartition được gán một chuỗi json biểu diễn timestamp bắt đầu. Giá trị offset trả về của mỗi partition là giá trị offset đầu tiên có timestamp lớn hơn hoặc bằng timestamp của partition tương ứng. Nếu không tồn tại offset nào phù hợp, offset được set là lastest.<br>Sau đó, Spark chỉ đơn giản truyền thông tin về timestamp tới KafkaConsumer.offsetsForTimes, không chú thích gì thêm về giá trị gửi đi. <br>Nếu cần thêm thông tin chi tiết về KafkaConsumer.offsetsForTimes, tham khảo thêm [javadoc](https://kafka.apache.org/21/javadoc/org/apache/kafka/clients/consumer/KafkaConsumer.html#offsetsForTimes-java.util.Map-). <br>Ý nghĩa của timestamp cũng tùy thuộc vào cấu hình của Kafka (log.message.timestamp.type): tham khảo thêm [Kafka documentation](https://kafka.apache.org/documentation/) để biết thêm chi tiết. <br>Lưu ý: Option này yêu cầu Kafka 0.10.1.0 hoặc cao hơn. <br>Lưu ý 2: endingOffsetsByTimestamp có mức ưu tiên cao hơn endingOffsets. |\n",
    "| endingOffsets | latest or json string {\"topicA\":{\"0\":23,\"1\":-1},\"topicB\":{\"0\":-1}} | latest | batch query | Kết thúc khi câu truy vấn tập hợp kết thúc, dùng \"lastest\" của offset kết thúc, hoặc dùng json để chỉ định offset kết thúc của từng TopicPartition. Trong json, -1 chỉ lastest, -2 (tương ứng với earliest) không được dùng. |\n",
    "| failOnDataLoss | true hoặc false | true | streaming query, batch query | Liệu có xảy ra mất mát dữ liệu khi câu truy vấn không thực hiện thành công (Ví dụ:  topic bị xóa, hoặc khoảng offset không hợp lệ). Nhưng option này cũng có thể hoạt động sai lệch. Bạn có thể không dùng option này nếu nó hoạt động không như mong đợi. |\n",
    "| kafkaConsumer.pollTimeoutMs | long | 512 | streaming query, batch query | Timeout tính theo milisecond khi thực hiện thăm dò dữ liệu từ Kafka. | \n",
    "| fetchOffset.numRetries | int | 3 | streaming query, batch query | Số lần thử lại trước khi dừng việc lấy ra Kafka offset. | \n",
    "| fetchOffset.retryIntervalMs | long | 10 | streaming query, batch query | Thời gian đợi tính theo milisecond trước khi thử lại việc lấy ra Kafka offset. | \n",
    "| maxOffsetsPerTrigger | long | none | streaming query, batch query | Giới hạn số lượng tối đa các offset được xử lý mỗi lần hoạt động. Một số lượng xác định các offset được phân chia theo tỉ lệ giữa các topicPartition có khối lượng khác nhau. | \n",
    "| minPartitions | int | none | streaming query, batch query | Số lượng nhỏ nhất partition mong muốn khi đọc dữ liệu từ Kafka. Spark có ánh xạ 1 - 1 từ topicPartition tới Spark partition khi subcribe từ Kafka. Nếu bạn chọn một giá trị lớn hơn số topicPartition hiện có, Spark sẽ chia những partition lớn thành những phần nhỏ hơn. Lưu ý rằng thiết lập này có nghĩa là số tác vụ của Spark sẽ xấp xỉ số minPartitions. Nhưng có thể ít hoặc nhiều hơn tùy thuộc vào các lỗi có thể gặp phải hoặc Kafka partition không nhận được bất kỳ dữ liệu mới nào. |\n",
    "| groupIdPrefix | string | spark-kafka-source | streaming query, batch query | Tiền tố của định danh nhóm consumer (group.id) được tạo ra khi thực hiện truy vấn luồng có cấu trúc. Nếu \"kafka.group.id\" được dùng, thì option này sẽ bị bỏ qua. |\n",
    "| kafka.group.id | string | none | streaming query, batch query | Kafka group id được dùng trong Kafka consumer khi đọc dữ liệu từ Kafka. Cẩn trọng khi dùng option này. Mặc định, mỗi truy vấn sẽ tạo ra một group id riêng biệt để đọc dữ liệu. Điều này đảm bảo rằng mỗi Kafka source có một consumer group riêng và không bị ảnh hưởng bởi các consumer khác, từ đó có thể đọc được tất cả các partition của topic mà nó subcribe. Trong một vài trường hợp (ví dụ: xác thực Kafka theo nhóm), bạn có thể muốn dùng một nhóm group id đã xác thực để đọc dữ liệu. Bạn có thể tùy ý thiết lập cho group id. Tuy nhiên, cần cẩn trọng bởi nó có thể tạo ra những kết quả không như mong muốn. Truy vấn đồng thời (cả truy vấn luồng và truy vấn tập hợp) hoặc các source với cùng group id có thể gây ra tình trạng lẫn lộn và kết quả là chỉ đọc được một phần dữ liệu. Tình trạng này cũng có thể xảy ra khi truy vấn nhiều hoặc truy vấn lại liên tục. Để giảm thiểu tối đa tình trạng này, thiết lập Kafka consumer session timeout (bằng option \"kafka.session.timeout.ms\") vô cùng bé. Khi Kafka session timeout được thiết lập, nó sẽ bỏ qua option \"groupIdPrefix\". | \n",
    "| includeHeaders | boolean | false | streaming query, batch query | Xác định liệu có Kafka header trong các hàng. |"
   ]
  },
  {
   "cell_type": "markdown",
   "metadata": {},
   "source": [
    "# Bộ nhớ đệm cho Consumer (Consumer Caching)\n",
    "\n",
    "Quá trình khởi tạo những Kafka consumer là một quá trình tốn thời gian, điều này càng trở nên chính xác trong bối cảnh xử lý trực tiếp theo dòng truyền, khi mà thời gian là nhân tố mang tính quyết định. Chính bởi điều này, Spark tập trung các consumer cho quá trình xử lý bằng cách tận dụng Apache Commons Pool.\n",
    "Chìa khoá cho bộ đệm được tạo ra từ các thông tin sau:\n",
    "- Topic name.\n",
    "- Topic partition.\n",
    "- Group ID.\n",
    "\n",
    "Để cấu hình cho consumer pool, có thể sử dụng các thông số sau:\n",
    "    \n",
    "|       Tên thuộc tính      | Giá trị mặc định |                                   Ý nghĩa                    | Khả dụng từ phiên bản |\n",
    "|:--------------------------|:----------------:|:-------------------------------------------------------------|:-------------:|\n",
    "| spark.kafka.consumer.cache.capacity                 |        64        | Số lượng tối đa consumer có thể được lưu vào bộ đệm. **Lưu ý đây là giới hạn mềm.**                                                                                                                                         |         3.0.0         |\n",
    "| spark.kafka.consumer.cache.timeout                  |    5m (5 phút)   | Khoảng thời gian tối thiểu để một consumer trong trạng thái nghỉ ngơi trước khi có thể bị đẩy ra khỏi bộ đệm bởi chương trình.                                                                                              |         3.0.0         |\n",
    "| spark.kafka.consumer.cache.evictorThreadRunInterval |    1m (1 phút)   | Chu kì giữa hai lần chạy của tiến trình kiểm tra trạng thái nghỉ trong consumer pool. Khi không ở trạng thái tích cực, sẽ không có tiến trình kiểm tra nào chạy.                                                          |         3.0.0         |\n",
    "| spark.kafka.consumer.cache.jmx.enable               |       false      | Bật hoặc tắt JMX cho những pool được khởi tạo với trạng thái cấu hình này. Số liệu thống kê về các pool có sẵn thông qua đối tượng JMX. Tiền tố của tên JMX được thiết lập là \"kafka010-cached-simple-kafka-consumer-pool\". |         3.0.0         |\n",
    "\n",
    "Kích thước của pool bị giới hạn bởi spark.kafka.consumer.cache.capacity, tuy nhiên nó hoạt động như một \"giới hạn mềm\" để không block các tác vụ của Spark.\n",
    "\n",
    "Các tiến trình kiểm tra trạng thái nghỉ định kì xoá các consumer không được sử dụng trong thời gian dài hơn thời gian timeout. Nếu ngưỡng này đạt tới, nó sẽ cố để xoá mục ít sử dụng nhất mà hiện đang không được sử dụng.\n",
    "\n",
    "Nếu không thể xoá, khi đó pool tiếp tục tăng lên. Trường hợp tệ nhất xảy đến khi pool phình to bằng với số tác vụ tối đa có thể chạy trên luồng thực thi (gọi là số vị trí tác vụ).\n",
    "\n",
    "Nếu tác vụ thất bại bởi bất kì lý do gì, tác vụ mới sẽ được thực thi với việc tạo mới Kafka consumer nhằm đảm bảo tính an toàn của chương trình. Trong cùng một thời điểm, ta vô hiệu hoá tất cả các consumers trong pool mà có chung khoá caching để loại bỏ tất cả các consumer được sử dụng trong tiến trình thực thi đã bị hỏng.\n",
    "\n",
    "Cùng với consumer, Spark tập trung các bản ghi lấy được từ Kafka một cách riêng biệt để cho các Kafka consumer không trạng thái từ góc nhìn của Spark cũng như tối đa hoá hiệu quả của việc tập trung. Nó tận dụng được cùng một khoá cache với pool dành cho Kafka consumer. **Lưu ý rằng nó không tận dụng Apache Commons Pool do sự khác nhau về các dặc trưng.**\n",
    "\n",
    "Bảng sau nêu ra các thuộc tính có thể được cấu hình để lấy dữ liệu từ data pool nói trên:\n",
    "    \n",
    "| Tên thuộc tính                                   | Giá trị mặc định | Ý nghĩa                                                                           | Khả dụng từ phiên bản |\n",
    "|:--------------------------------------------------|:------------|:-----------------------------------------------------------------------------------------|:--------------|\n",
    "| spark.kafka.consumer.fetchedData.cache.timeout                  | 5m (5 phút)      | Khoảng thời gian tối thiểu một dữ liệu đã được lấy về có thể ở trong pool trước khi có thể bị loại bỏ                                                                | 3.0.0                 |\n",
    "| spark.kafka.consumer.fetchedData.cache.evictorThreadRunInterval | 1m (1 phút)      | Khoảng thời gian giữa các lần chạy của tiến trình kiểm tra trạng thái nghỉ trên data pool. Khi không ở trạng thái tích cực, sẽ không có tiến trình kiểm tra nào chạy | 3.0.0                 |"
   ]
  },
  {
   "cell_type": "code",
   "execution_count": null,
   "metadata": {},
   "outputs": [],
   "source": []
  }
 ],
 "metadata": {
  "kernelspec": {
   "display_name": "Python 3",
   "language": "python",
   "name": "python3"
  },
  "language_info": {
   "codemirror_mode": {
    "name": "ipython",
    "version": 3
   },
   "file_extension": ".py",
   "mimetype": "text/x-python",
   "name": "python",
   "nbconvert_exporter": "python",
   "pygments_lexer": "ipython3",
   "version": "3.8.6"
  }
 },
 "nbformat": 4,
 "nbformat_minor": 4
}
